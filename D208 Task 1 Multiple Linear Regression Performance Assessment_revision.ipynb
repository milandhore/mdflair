{
 "cells": [
  {
   "cell_type": "markdown",
   "id": "19380102",
   "metadata": {},
   "source": [
    "<span style=\"color:Blue\"><b> Student :</b> MILAN DHORE </span><br>\n",
    "<span style=\"color:Blue\"><b> Student ID:</b> 006104606 </span><br>\n",
    "<span style=\"color:Blue\"><b> Program :</b> Master of Science, Data Analytics </span><br>\n",
    "<span style=\"color:Blue\"><b> Program Mentor :</b> Jared Knepp </span><br>\n",
    "<span style=\"color:Blue\"><b> Course :</b> D208 -Task1 Multiple Linear Regression Performance Assessment(With Churn Dataset) </span><br>\n",
    "<span style=\"color:Blue\"><b> Course Instructor :</b> Eric Straw </span>"
   ]
  },
  {
   "cell_type": "code",
   "execution_count": null,
   "id": "7fc1cfc1",
   "metadata": {
    "scrolled": true
   },
   "outputs": [],
   "source": [
    "# Standard data science imports\n",
    "import numpy as np\n",
    "import pandas as pd\n",
    "from pandas import Series, DataFrame\n",
    "\n",
    "# Visualization libraries\n",
    "import seaborn as sns\n",
    "import matplotlib.pyplot as plt\n",
    "%matplotlib inline\n",
    "\n",
    "# Statistics packages\n",
    "import pylab\n",
    "from pylab import rcParams\n",
    "import statsmodels.api as sm\n",
    "import statistics\n",
    "from scipy import stats\n",
    "\n",
    "# Scikit-learn\n",
    "import sklearn\n",
    "from sklearn import preprocessing\n",
    "from sklearn.linear_model import LinearRegression\n",
    "from sklearn.model_selection import train_test_split\n",
    "from sklearn import metrics\n",
    "from sklearn.metrics import classification_report\n",
    "\n",
    "\n",
    "# Import chisquare from SciPy.stats\n",
    "from scipy.stats import chisquare\n",
    "from scipy.stats import chi2_contingency\n",
    "\n",
    "# Ignore Warning Code\n",
    "import warnings\n",
    "warnings.filterwarnings('ignore')"
   ]
  },
  {
   "cell_type": "code",
   "execution_count": null,
   "id": "42d03d6f",
   "metadata": {},
   "outputs": [],
   "source": [
    "%%HTML\n",
    "<style type=\"text/css\">\n",
    "table.dataframe td, table.dataframe th {\n",
    "    border: 1px  black solid !important;\n",
    "  color: black !important;\n",
    "}\n",
    "</style>"
   ]
  },
  {
   "cell_type": "code",
   "execution_count": null,
   "id": "3ee8c914",
   "metadata": {
    "scrolled": true
   },
   "outputs": [],
   "source": [
    "# Load data set into Pandas dataframe and read first two rows including header\n",
    "df = pd.read_csv('churn_raw_data.csv')\n",
    "df.head(2)"
   ]
  },
  {
   "cell_type": "code",
   "execution_count": null,
   "id": "8f189606",
   "metadata": {
    "scrolled": true
   },
   "outputs": [],
   "source": [
    "# Remove redundant \"Unnamed\" column at beginning & display first two records\n",
    "df = df.drop(df.columns[0], axis = 1)\n",
    "df.head(2)"
   ]
  },
  {
   "cell_type": "code",
   "execution_count": null,
   "id": "c5566f47",
   "metadata": {
    "scrolled": true
   },
   "outputs": [],
   "source": [
    "# Rename last 8 survey columns for better description of variables\n",
    "df.rename(columns = {'item1':'Timely_Responses',\n",
    "'item2':'Timely_Fixes',\n",
    "'item3':'Timely_Replacements',\n",
    "'item4':'Reliability',\n",
    "'item5':'Options',\n",
    "'item6':'Respectful_Response',\n",
    "'item7':'Courteous_Exchange',\n",
    "'item8':'Active_Listening'},\n",
    "inplace=True)"
   ]
  },
  {
   "cell_type": "markdown",
   "id": "64c004b9",
   "metadata": {},
   "source": [
    "<span style=\"color:Blue\"><b> Data Cleaning </b></span>"
   ]
  },
  {
   "cell_type": "code",
   "execution_count": null,
   "id": "7e7b5824",
   "metadata": {
    "scrolled": true
   },
   "outputs": [],
   "source": [
    "#Check remaining columns in new dataset and remove unwanted columns if required\n",
    "df.columns"
   ]
  },
  {
   "cell_type": "code",
   "execution_count": null,
   "id": "cb29151f",
   "metadata": {
    "scrolled": true
   },
   "outputs": [],
   "source": [
    "#we should also check count of missing values as well \"NA\" presence in dataset.\n",
    "data_with_nulls = df.isnull().sum() \n",
    "data_with_na=df.isna().any()\n",
    "print(data_with_nulls)\n",
    "print(data_with_na)"
   ]
  },
  {
   "cell_type": "code",
   "execution_count": null,
   "id": "91ad01cf",
   "metadata": {
    "scrolled": true
   },
   "outputs": [],
   "source": [
    "# Identify duplicate rows in the dataframe and remove if required\n",
    "duplicates_data_rows = df.loc[df.duplicated()]\n",
    "print(duplicates_data_rows)"
   ]
  },
  {
   "cell_type": "code",
   "execution_count": null,
   "id": "67497f10",
   "metadata": {
    "scrolled": true
   },
   "outputs": [],
   "source": [
    "# find out columns with invalid values or misspelling in case of catergorial data.\n",
    "# This analysis will help later in analysis\n",
    "print(\"Employment values \\n\",df['Employment'].unique())\n",
    "print(\"Area values \\n\",df['Area'].unique())\n",
    "print(\"Children values \\n\",df['Children'].unique())\n",
    "print(\"Education values \\n\",df['Education'].unique())\n",
    "print(\"Marital values \\n\",df['Marital'].unique())\n",
    "print(\"Gender values \\n\",df['Gender'].unique())\n",
    "print(\"Contract values \\n\",df['Contract'].unique())\n",
    "print(\"PaymentMethod values \\n\",df['PaymentMethod'].unique())\n",
    "print(\"age_range values \\n\",sorted(df['Age'].unique().astype(int)))"
   ]
  },
  {
   "cell_type": "code",
   "execution_count": null,
   "id": "8403d5cc",
   "metadata": {
    "scrolled": true
   },
   "outputs": [],
   "source": [
    "# we found in above steps many missing data values for columns/features \n",
    "#Children, Age, Income, Tenure and Bandwidth_GB_Year\n",
    "# Now its time to Impute missing fields  with median or mean\n",
    "df['Children'] = df['Children'].fillna(df['Children'].median())\n",
    "df['Age'] = df['Age'].fillna(df['Age'].median())\n",
    "df['Income'] = df['Income'].fillna(df['Income'].median())\n",
    "df['Tenure'] = df['Tenure'].fillna(df['Tenure'].median())\n",
    "df['Bandwidth_GB_Year'] = df['Bandwidth_GB_Year'].fillna(df['Bandwidth_GB_Year'].median())"
   ]
  },
  {
   "cell_type": "code",
   "execution_count": null,
   "id": "f59592b0",
   "metadata": {
    "scrolled": true
   },
   "outputs": [],
   "source": [
    "#RE-check count of missing values after imputing missing fields \n",
    "data_with_nulls = df.isnull().sum() \n",
    "print(data_with_nulls)"
   ]
  },
  {
   "cell_type": "markdown",
   "id": "f2f58f70",
   "metadata": {},
   "source": [
    "### <span style=\"color:Blue\"><b> Dummy variable creation</b></span>"
   ]
  },
  {
   "cell_type": "code",
   "execution_count": null,
   "id": "6afd85bc",
   "metadata": {
    "scrolled": true
   },
   "outputs": [],
   "source": [
    "##Turn all yes/no into dummy variables  \n",
    "df['DummyGender'] = [1 if v == 'Male' else 0 for v in df['Gender']]\n",
    "df['DummyChurn'] = [1 if v == 'Yes' else 0 for v in df['Churn']]\n",
    "df['DummyTechie'] = [1 if v == 'Yes' else 0 for v in df['Techie']]\n",
    "df['DummyContract'] = [1 if v == 'Two Year' else 0 for v in df['Contract']]\n",
    "df['DummyPort_modem'] = [1 if v == 'Yes' else 0 for v in df['Port_modem']]\n",
    "df['DummyTablet'] = [1 if v == 'Yes' else 0 for v in df['Tablet']]\n",
    "df['DummyInternetService'] = [1 if v == 'Fiber Optic' else 0 for v in df['InternetService']]\n",
    "df['DummyPhone'] = [1 if v == 'Yes' else 0 for v in df['Phone']]\n",
    "df['DummyMultiple'] = [1 if v == 'Yes' else 0 for v in df['Multiple']]\n",
    "df['DummyOnlineSecurity'] = [1 if v == 'Yes' else 0 for v in df['OnlineSecurity']]\n",
    "df['DummyOnlineBackup'] = [1 if v == 'Yes' else 0 for v in df['OnlineBackup']]\n",
    "df['DummyDeviceProtection'] = [1 if v == 'Yes' else 0 for v in df['DeviceProtection']]\n",
    "df['DummyTechSupport'] = [1 if v == 'Yes' else 0 for v in df['TechSupport']]\n",
    "df['DummyStreamingTV'] = [1 if v == 'Yes' else 0 for v in df['StreamingTV']]\n",
    "df['StreamingMovies'] = [1 if v == 'Yes' else 0 for v in df['StreamingMovies']]\n",
    "df['DummyPaperlessBilling'] = [1 if v == 'Yes' else 0 for v in df['PaperlessBilling']]"
   ]
  },
  {
   "cell_type": "code",
   "execution_count": null,
   "id": "795a618d",
   "metadata": {
    "scrolled": true
   },
   "outputs": [],
   "source": [
    "# Drop original categorical features from dataframe\n",
    "# Remove less meaningful demographic variables from statistics description\n",
    "\n",
    "df = df.drop(columns=['Gender', 'Churn', 'Techie', 'Contract', 'Port_modem', 'Tablet', \n",
    "                    'InternetService', 'Phone', 'Multiple', 'OnlineSecurity', \n",
    "                    'OnlineBackup', 'DeviceProtection', 'TechSupport', \n",
    "                    'StreamingTV', 'StreamingMovies', 'PaperlessBilling',\n",
    "                    'CaseOrder', 'Customer_id', 'Interaction', 'City', 'State', 'County',\n",
    "       'Zip', 'Lat', 'Lng', 'Population', 'Area', 'Timezone', 'Job','Marital','PaymentMethod'])\n",
    "df.describe()"
   ]
  },
  {
   "cell_type": "code",
   "execution_count": null,
   "id": "cb6b9a13",
   "metadata": {
    "scrolled": true
   },
   "outputs": [],
   "source": [
    "df.columns"
   ]
  },
  {
   "cell_type": "code",
   "execution_count": null,
   "id": "8f35198d",
   "metadata": {
    "scrolled": true
   },
   "outputs": [],
   "source": [
    "# Move Bandwidth_GB_Year to end of dataset as target\n",
    "df_new = df[['Children', 'Age', 'Education', 'Employment', 'Income',\n",
    "             'Outage_sec_perweek', 'Email', 'Contacts', 'Yearly_equip_failure',\n",
    "             'Tenure', 'MonthlyCharge', 'Timely_Responses','Timely_Fixes', \n",
    "             'Timely_Replacements', 'Reliability', 'Options','Respectful_Response',\n",
    "             'Courteous_Exchange', 'Active_Listening','DummyGender', 'DummyChurn',\n",
    "             'DummyTechie', 'DummyContract','DummyPort_modem', 'DummyTablet',\n",
    "             'DummyInternetService', 'DummyPhone','DummyMultiple', \n",
    "             'DummyOnlineSecurity', 'DummyOnlineBackup','DummyDeviceProtection', \n",
    "             'DummyTechSupport', 'DummyStreamingTV','DummyPaperlessBilling','Bandwidth_GB_Year']]"
   ]
  },
  {
   "cell_type": "code",
   "execution_count": null,
   "id": "62f15b40",
   "metadata": {
    "scrolled": true
   },
   "outputs": [],
   "source": [
    "df_new.head(2) "
   ]
  },
  {
   "cell_type": "markdown",
   "id": "c727453f",
   "metadata": {},
   "source": [
    "### <span style=\"color:Blue\"><b> Univariate Statistics </b></span>"
   ]
  },
  {
   "cell_type": "code",
   "execution_count": null,
   "id": "afb2cb1f",
   "metadata": {
    "scrolled": true
   },
   "outputs": [],
   "source": [
    "# Create histograms of contiuous variables\n",
    "df_new[['Children', 'Age', 'Income', 'Outage_sec_perweek', 'Email', \n",
    "          'Contacts', 'Yearly_equip_failure', 'Tenure', 'MonthlyCharge', \n",
    "          'Bandwidth_GB_Year']].hist()\n",
    "plt.savefig('churn_pyplot.jpg')\n",
    "plt.tight_layout()"
   ]
  },
  {
   "cell_type": "code",
   "execution_count": null,
   "id": "56e3e5a8",
   "metadata": {
    "scrolled": true
   },
   "outputs": [],
   "source": [
    "# Create Seaborn boxplots for continuous variables\n",
    "sns.boxplot('Tenure', data = df_new)\n",
    "plt.show()"
   ]
  },
  {
   "cell_type": "code",
   "execution_count": null,
   "id": "b4b15690",
   "metadata": {
    "scrolled": true
   },
   "outputs": [],
   "source": [
    "sns.boxplot('MonthlyCharge', data = df_new)\n",
    "plt.show()"
   ]
  },
  {
   "cell_type": "code",
   "execution_count": null,
   "id": "971fcfe7",
   "metadata": {
    "scrolled": true
   },
   "outputs": [],
   "source": [
    "sns.boxplot('Bandwidth_GB_Year', data = df_new)\n",
    "plt.show()"
   ]
  },
  {
   "cell_type": "markdown",
   "id": "f8492dec",
   "metadata": {},
   "source": [
    "### <span style=\"color:Blue\"><b> Bivariate Statistics </b></span>\n",
    "Let's run some scatterplots to get an idea of our linear relationships with <br>our target variable of \"Bandwidth_GB_Year\" usage & some of the respective predictor variables."
   ]
  },
  {
   "cell_type": "code",
   "execution_count": null,
   "id": "d75242c3",
   "metadata": {
    "scrolled": true
   },
   "outputs": [],
   "source": [
    "# Run scatterplots to show direct or inverse relationships \n",
    "# between target & independent variables\n",
    "sns.scatterplot(x=df_new['Children'], y=df_new['Bandwidth_GB_Year'], color='red')\n",
    "plt.show();"
   ]
  },
  {
   "cell_type": "code",
   "execution_count": null,
   "id": "5bd32165",
   "metadata": {
    "scrolled": true
   },
   "outputs": [],
   "source": [
    "sns.scatterplot(x=df_new['Age'], \n",
    "                y=df_new['Bandwidth_GB_Year'], color='red')\n",
    "plt.show();"
   ]
  },
  {
   "cell_type": "code",
   "execution_count": null,
   "id": "9c1eadbb",
   "metadata": {
    "scrolled": true
   },
   "outputs": [],
   "source": [
    "sns.scatterplot(x=df_new['Income'], \n",
    "                y=df_new['Bandwidth_GB_Year'], color='red')\n",
    "plt.show();"
   ]
  },
  {
   "cell_type": "code",
   "execution_count": null,
   "id": "2a2b6b8b",
   "metadata": {
    "scrolled": true
   },
   "outputs": [],
   "source": [
    "sns.scatterplot(x=df_new['Outage_sec_perweek'], \n",
    "                y=df_new['Bandwidth_GB_Year'], color='red')\n",
    "plt.show();"
   ]
  },
  {
   "cell_type": "code",
   "execution_count": null,
   "id": "4c907077",
   "metadata": {
    "scrolled": true
   },
   "outputs": [],
   "source": [
    "sns.scatterplot(x=df_new['Email'], \n",
    "                y=df_new['Bandwidth_GB_Year'], color='red')\n",
    "plt.show();"
   ]
  },
  {
   "cell_type": "code",
   "execution_count": null,
   "id": "085648ed",
   "metadata": {
    "scrolled": true
   },
   "outputs": [],
   "source": [
    "sns.scatterplot(x=df_new['Contacts'], \n",
    "                y=df_new['Bandwidth_GB_Year'], color='red')\n",
    "plt.show();"
   ]
  },
  {
   "cell_type": "code",
   "execution_count": null,
   "id": "6bbf7e43",
   "metadata": {
    "scrolled": true
   },
   "outputs": [],
   "source": [
    "sns.scatterplot(x=df_new['Yearly_equip_failure'], \n",
    "                y=df_new['Bandwidth_GB_Year'], color='red')\n",
    "plt.show();"
   ]
  },
  {
   "cell_type": "code",
   "execution_count": null,
   "id": "46dc1a20",
   "metadata": {
    "scrolled": true
   },
   "outputs": [],
   "source": [
    "sns.scatterplot(x=df_new['Tenure'], \n",
    "                y=df_new['Bandwidth_GB_Year'], color='red')\n",
    "plt.show();"
   ]
  },
  {
   "cell_type": "code",
   "execution_count": null,
   "id": "58450627",
   "metadata": {
    "scrolled": true
   },
   "outputs": [],
   "source": [
    "sns.scatterplot(x=df_new['MonthlyCharge'],\n",
    "                y=df_new['Bandwidth_GB_Year'], color='red')\n",
    "plt.show();"
   ]
  },
  {
   "cell_type": "code",
   "execution_count": null,
   "id": "ab1e9fa8",
   "metadata": {
    "scrolled": true
   },
   "outputs": [],
   "source": [
    "sns.scatterplot(x=df_new['Timely_Responses'], \n",
    "                y=df_new['Bandwidth_GB_Year'], color='red')\n",
    "plt.show();"
   ]
  },
  {
   "cell_type": "code",
   "execution_count": null,
   "id": "efefd7ac",
   "metadata": {
    "scrolled": true
   },
   "outputs": [],
   "source": [
    "sns.scatterplot(x=df_new['Timely_Fixes'], \n",
    "                y=df_new['Bandwidth_GB_Year'], color='red')\n",
    "plt.show();"
   ]
  },
  {
   "cell_type": "code",
   "execution_count": null,
   "id": "d627c83a",
   "metadata": {
    "scrolled": true
   },
   "outputs": [],
   "source": [
    "sns.scatterplot(x=df_new['DummyTechie'], \n",
    "                y=df_new['Bandwidth_GB_Year'], color='red')\n",
    "plt.show();"
   ]
  },
  {
   "cell_type": "code",
   "execution_count": null,
   "id": "49ffafc9",
   "metadata": {
    "scrolled": true
   },
   "outputs": [],
   "source": [
    "## find correlation of cited some of the respective predictor variables\n",
    "#with \"Bandwidth_GB_Year\"\n",
    "plt.subplots(figsize=(15,15))\n",
    "df_correlation = df[['Bandwidth_GB_Year','Children','Tenure','Age', 'Employment', \n",
    "                     'Income','Outage_sec_perweek', 'Email', 'Contacts', 'MonthlyCharge']]\n",
    "sns.heatmap(df_correlation.corr(),annot=True,lw=1);"
   ]
  },
  {
   "cell_type": "markdown",
   "id": "d7d9d57c",
   "metadata": {},
   "source": [
    "### <span style=\"color:Blue\"><b> Prepared Dataset Copy  </b></span>"
   ]
  },
  {
   "cell_type": "code",
   "execution_count": null,
   "id": "b26bc870",
   "metadata": {
    "scrolled": true
   },
   "outputs": [],
   "source": [
    "# Extract Clean dataset\n",
    "df_new.to_csv('churn_prepared_data.csv')"
   ]
  },
  {
   "cell_type": "code",
   "execution_count": null,
   "id": "d2b91513",
   "metadata": {
    "scrolled": true
   },
   "outputs": [],
   "source": [
    "df_prep=pd.read_csv('churn_prepared_data.csv')\n",
    "# Remove redundant \"Unnamed\" column at beginning & display first two records\n",
    "df_prep = df_prep.drop(df_prep.columns[0], axis = 1)\n",
    "df_prep.head(2)"
   ]
  },
  {
   "cell_type": "code",
   "execution_count": null,
   "id": "98773cff",
   "metadata": {
    "scrolled": true
   },
   "outputs": [],
   "source": [
    "df_prep.columns"
   ]
  },
  {
   "cell_type": "code",
   "execution_count": null,
   "id": "219bfb7a",
   "metadata": {
    "scrolled": true
   },
   "outputs": [],
   "source": [
    "df_prep.shape"
   ]
  },
  {
   "cell_type": "markdown",
   "id": "bf18ec09",
   "metadata": {},
   "source": [
    "### <span style=\"color:Blue\"><b> Initial Model  </b></span>"
   ]
  },
  {
   "cell_type": "markdown",
   "id": "7d522bc5",
   "metadata": {},
   "source": [
    "Significant advantage of the OLS model is it gives us the summary report of the model.It gives us a comprehensive report on how the model is split, what are the main parameters to look at, what are the different tests that is performed to validate if a feature is necessary or not for model creation.\n"
   ]
  },
  {
   "cell_type": "code",
   "execution_count": null,
   "id": "26bef175",
   "metadata": {
    "scrolled": true
   },
   "outputs": [],
   "source": [
    "#Construct an initial multiple regression model from all predictors that were identified in Part C2.\n",
    "#Develop the initial estimated regression equation that could be used to predict the Bandwidth_GB_Year\n",
    "df['intercept'] = 1\n",
    "bandwidth = sm.OLS(df['Bandwidth_GB_Year'], df[['Children', 'Age', \n",
    "                                                'Income', 'Outage_sec_perweek', \n",
    "                                                'Email', 'Contacts',\n",
    "                                                'Yearly_equip_failure', \n",
    "                                                'DummyTechie', 'DummyContract', \n",
    "                                                'DummyPort_modem', 'DummyTablet', \n",
    "                                                'DummyInternetService', 'DummyPhone', \n",
    "                                                'DummyMultiple', 'DummyOnlineSecurity', \n",
    "                                                 'DummyOnlineBackup', 'DummyDeviceProtection', \n",
    "                                                 'DummyTechSupport', 'DummyStreamingTV', \n",
    "                                                 'DummyPaperlessBilling',\n",
    "                                                'Tenure', 'MonthlyCharge', \n",
    "                                                 'Timely_Responses', 'Timely_Fixes', \n",
    "                                                 'Timely_Replacements', 'Reliability', \n",
    "                                                  'Options', 'Respectful_Response', \n",
    "                                                  'Courteous_Exchange', 'Active_Listening', \n",
    "                                                  'intercept']]).fit()\n",
    "print(bandwidth.summary())"
   ]
  },
  {
   "cell_type": "markdown",
   "id": "a54b64a2",
   "metadata": {},
   "source": [
    "Based on an R2 value = 0.812. So, 81% of the variation is explained by this model. The condition number is large which might suggest strong multicollinearity. Apparently, we do not need all these variables to explain the variance. So, it’s a very well fitted model where we don’t have any such feature which is affecting our model performance out of proportion"
   ]
  },
  {
   "cell_type": "markdown",
   "id": "d131ff7b",
   "metadata": {},
   "source": [
    "###  <span style=\"color:Blue\"><b> Justification of Model Reduction</b></span>\n",
    "Justify a statistically based variable selection procedure and a model evaluation metric to reduce the initial model in a way that aligns with the research question."
   ]
  },
  {
   "cell_type": "code",
   "execution_count": null,
   "id": "d041181a",
   "metadata": {},
   "outputs": [],
   "source": [
    "# Create dataframe for heatmap bivariate analysis of correlation3\n",
    "# Only considered variables with positive coefficient \n",
    "df_bivariate=df[['Bandwidth_GB_Year','Children', 'Tenure',\n",
    "                 'DummyOnlineSecurity','DummyDeviceProtection'\n",
    "                 ,'DummyDeviceProtection','DummyStreamingTV',\n",
    "                 'MonthlyCharge','Courteous_Exchange']]"
   ]
  },
  {
   "cell_type": "code",
   "execution_count": null,
   "id": "8d158eaa",
   "metadata": {},
   "outputs": [],
   "source": [
    "# Generate heatmap\n",
    "sns.heatmap(df_bivariate.corr(), annot=True)\n",
    "plt.show()"
   ]
  },
  {
   "cell_type": "markdown",
   "id": "75b67c7a",
   "metadata": {},
   "source": [
    "<b>Again, it appears that Tenure is the predictor for most of the variance. There is clearly a direct linear relationship between customer tenure with the telecom company & the amount of data (in GBs) that is being used.</b>\n"
   ]
  },
  {
   "cell_type": "markdown",
   "id": "2c46e326",
   "metadata": {},
   "source": [
    "###  <span style=\"color:Blue\"><b> Reduced Multiple Regression Model</b></span>"
   ]
  },
  {
   "cell_type": "markdown",
   "id": "944f57d0",
   "metadata": {},
   "source": [
    "We have selected two continuous variables Children & Tenure as well as two discrete ordinal predictor variables Timely Fixes and courteous exchange"
   ]
  },
  {
   "cell_type": "code",
   "execution_count": 52,
   "id": "3c040319",
   "metadata": {},
   "outputs": [
    {
     "name": "stdout",
     "output_type": "stream",
     "text": [
      "                            OLS Regression Results                            \n",
      "==============================================================================\n",
      "Dep. Variable:      Bandwidth_GB_Year   R-squared:                       0.800\n",
      "Model:                            OLS   Adj. R-squared:                  0.800\n",
      "Method:                 Least Squares   F-statistic:                     9990.\n",
      "Date:                Fri, 22 Oct 2021   Prob (F-statistic):               0.00\n",
      "Time:                        17:36:47   Log-Likelihood:                -82510.\n",
      "No. Observations:               10000   AIC:                         1.650e+05\n",
      "Df Residuals:                    9995   BIC:                         1.651e+05\n",
      "Df Model:                           4                                         \n",
      "Covariance Type:            nonrobust                                         \n",
      "======================================================================================\n",
      "                         coef    std err          t      P>|t|      [0.025      0.975]\n",
      "--------------------------------------------------------------------------------------\n",
      "Children              23.9622      4.816      4.976      0.000      14.523      33.402\n",
      "Tenure                73.6158      0.368    199.877      0.000      72.894      74.338\n",
      "Timely_Fixes          -3.3682      9.397     -0.358      0.720     -21.789      15.053\n",
      "Courteous_Exchange     8.6029      9.453      0.910      0.363      -9.928      27.134\n",
      "intercept            783.8177     43.026     18.217      0.000     699.478     868.157\n",
      "==============================================================================\n",
      "Omnibus:                      651.273   Durbin-Watson:                   1.944\n",
      "Prob(Omnibus):                  0.000   Jarque-Bera (JB):             3004.257\n",
      "Skew:                          -0.102   Prob(JB):                         0.00\n",
      "Kurtosis:                       5.677   Cond. No.                         203.\n",
      "==============================================================================\n",
      "\n",
      "Notes:\n",
      "[1] Standard Errors assume that the covariance matrix of the errors is correctly specified.\n"
     ]
    }
   ],
   "source": [
    "# Run reduced OLS multiple regression\n",
    "df['intercept'] = 1\n",
    "lm_bandwidth_reduced = sm.OLS(df['Bandwidth_GB_Year'], df[['Children',\n",
    "                                                           'Tenure', \n",
    "                                                           'Timely_Fixes', \n",
    "                                                           'Courteous_Exchange',\n",
    "                                                           'intercept']]).fit()\n",
    "print(lm_bandwidth_reduced.summary())"
   ]
  },
  {
   "cell_type": "markdown",
   "id": "6a3621ad",
   "metadata": {},
   "source": [
    "<b>After Removing all those other predictor variables also our model still explains 80% of the variance\n",
    "</b>"
   ]
  },
  {
   "cell_type": "markdown",
   "id": "44578b17",
   "metadata": {},
   "source": [
    "###  <span style=\"color:Blue\"><b> Residual Plot</b></span>\n",
    "The residual plots can reveal conditions that are hard to see from the regression line"
   ]
  },
  {
   "cell_type": "code",
   "execution_count": null,
   "id": "73225dd3",
   "metadata": {},
   "outputs": [],
   "source": [
    "import matplotlib.pyplot as plt\n",
    "import statsmodels.api as sm\n",
    "from statsmodels.formula.api import ols"
   ]
  },
  {
   "cell_type": "code",
   "execution_count": null,
   "id": "65df3803",
   "metadata": {},
   "outputs": [],
   "source": [
    "#fit multiple linear regression model\n",
    "residuals = ols('Bandwidth_GB_Year ~ Children + Tenure + Timely_Fixes + Courteous_Exchange ', data=df).fit()\n",
    "\n",
    "#view model summary\n",
    "print(residuals.summary())"
   ]
  },
  {
   "cell_type": "code",
   "execution_count": null,
   "id": "37108d33",
   "metadata": {},
   "outputs": [],
   "source": [
    "#create residual vs. predictor plot for 'Children'\n",
    "fig = plt.figure(figsize=(12,8))\n",
    "fig = sm.graphics.plot_regress_exog(residuals, 'Children', fig=fig)"
   ]
  },
  {
   "cell_type": "code",
   "execution_count": null,
   "id": "0f37907e",
   "metadata": {},
   "outputs": [],
   "source": [
    "#create residual vs. predictor plot for 'Tenure'\n",
    "fig = plt.figure(figsize=(12,8))\n",
    "fig = sm.graphics.plot_regress_exog(residuals, 'Tenure', fig=fig)\n"
   ]
  },
  {
   "cell_type": "code",
   "execution_count": null,
   "id": "9035c626",
   "metadata": {},
   "outputs": [],
   "source": [
    "#create residual vs. predictor plot for 'Timely_Fixes'\n",
    "fig = plt.figure(figsize=(12,8))\n",
    "fig = sm.graphics.plot_regress_exog(residuals, 'Timely_Fixes', fig=fig)"
   ]
  },
  {
   "cell_type": "code",
   "execution_count": null,
   "id": "34d5ad06",
   "metadata": {},
   "outputs": [],
   "source": [
    "#create residual vs. predictor plot for 'Courteous_Exchange'\n",
    "fig = plt.figure(figsize=(12,8))\n",
    "fig = sm.graphics.plot_regress_exog(residuals, 'Courteous_Exchange', fig=fig)"
   ]
  },
  {
   "cell_type": "code",
   "execution_count": null,
   "id": "83653555",
   "metadata": {},
   "outputs": [],
   "source": []
  }
 ],
 "metadata": {
  "kernelspec": {
   "display_name": "Python 3",
   "language": "python",
   "name": "python3"
  },
  "language_info": {
   "codemirror_mode": {
    "name": "ipython",
    "version": 3
   },
   "file_extension": ".py",
   "mimetype": "text/x-python",
   "name": "python",
   "nbconvert_exporter": "python",
   "pygments_lexer": "ipython3",
   "version": "3.8.8"
  }
 },
 "nbformat": 4,
 "nbformat_minor": 5
}
