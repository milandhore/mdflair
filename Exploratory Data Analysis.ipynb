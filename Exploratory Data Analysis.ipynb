{
 "cells": [
  {
   "cell_type": "code",
   "execution_count": 1,
   "id": "7fc1cfc1",
   "metadata": {},
   "outputs": [],
   "source": [
    "# # Imports Standard librabries for Visualization,Statistics,chisquare\n",
    "import numpy as np\n",
    "import pandas as pd\n",
    "from pandas import DataFrame\n",
    "import seaborn as sns\n",
    "import matplotlib.pyplot as plt\n",
    "%matplotlib inline\n",
    "import pylab\n",
    "import statsmodels.api as sm\n",
    "import statistics\n",
    "from scipy import stats\n",
    "from scipy.stats import chisquare \n",
    "from scipy.stats import chi2_contingency\n"
   ]
  },
  {
   "cell_type": "code",
   "execution_count": 2,
   "id": "3ee8c914",
   "metadata": {},
   "outputs": [
    {
     "data": {
      "text/html": [
       "<div>\n",
       "<style scoped>\n",
       "    .dataframe tbody tr th:only-of-type {\n",
       "        vertical-align: middle;\n",
       "    }\n",
       "\n",
       "    .dataframe tbody tr th {\n",
       "        vertical-align: top;\n",
       "    }\n",
       "\n",
       "    .dataframe thead th {\n",
       "        text-align: right;\n",
       "    }\n",
       "</style>\n",
       "<table border=\"1\" class=\"dataframe\">\n",
       "  <thead>\n",
       "    <tr style=\"text-align: right;\">\n",
       "      <th></th>\n",
       "      <th>Unnamed: 0</th>\n",
       "      <th>CaseOrder</th>\n",
       "      <th>Customer_id</th>\n",
       "      <th>Interaction</th>\n",
       "      <th>City</th>\n",
       "      <th>State</th>\n",
       "      <th>County</th>\n",
       "      <th>Zip</th>\n",
       "      <th>Lat</th>\n",
       "      <th>Lng</th>\n",
       "      <th>...</th>\n",
       "      <th>MonthlyCharge</th>\n",
       "      <th>Bandwidth_GB_Year</th>\n",
       "      <th>item1</th>\n",
       "      <th>item2</th>\n",
       "      <th>item3</th>\n",
       "      <th>item4</th>\n",
       "      <th>item5</th>\n",
       "      <th>item6</th>\n",
       "      <th>item7</th>\n",
       "      <th>item8</th>\n",
       "    </tr>\n",
       "  </thead>\n",
       "  <tbody>\n",
       "    <tr>\n",
       "      <th>0</th>\n",
       "      <td>1</td>\n",
       "      <td>1</td>\n",
       "      <td>K409198</td>\n",
       "      <td>aa90260b-4141-4a24-8e36-b04ce1f4f77b</td>\n",
       "      <td>Point Baker</td>\n",
       "      <td>AK</td>\n",
       "      <td>Prince of Wales-Hyder</td>\n",
       "      <td>99927</td>\n",
       "      <td>56.25100</td>\n",
       "      <td>-133.37571</td>\n",
       "      <td>...</td>\n",
       "      <td>171.449762</td>\n",
       "      <td>904.536110</td>\n",
       "      <td>5</td>\n",
       "      <td>5</td>\n",
       "      <td>5</td>\n",
       "      <td>3</td>\n",
       "      <td>4</td>\n",
       "      <td>4</td>\n",
       "      <td>3</td>\n",
       "      <td>4</td>\n",
       "    </tr>\n",
       "    <tr>\n",
       "      <th>1</th>\n",
       "      <td>2</td>\n",
       "      <td>2</td>\n",
       "      <td>S120509</td>\n",
       "      <td>fb76459f-c047-4a9d-8af9-e0f7d4ac2524</td>\n",
       "      <td>West Branch</td>\n",
       "      <td>MI</td>\n",
       "      <td>Ogemaw</td>\n",
       "      <td>48661</td>\n",
       "      <td>44.32893</td>\n",
       "      <td>-84.24080</td>\n",
       "      <td>...</td>\n",
       "      <td>242.948015</td>\n",
       "      <td>800.982766</td>\n",
       "      <td>3</td>\n",
       "      <td>4</td>\n",
       "      <td>3</td>\n",
       "      <td>3</td>\n",
       "      <td>4</td>\n",
       "      <td>3</td>\n",
       "      <td>4</td>\n",
       "      <td>4</td>\n",
       "    </tr>\n",
       "  </tbody>\n",
       "</table>\n",
       "<p>2 rows × 52 columns</p>\n",
       "</div>"
      ],
      "text/plain": [
       "   Unnamed: 0  CaseOrder Customer_id                           Interaction  \\\n",
       "0           1          1     K409198  aa90260b-4141-4a24-8e36-b04ce1f4f77b   \n",
       "1           2          2     S120509  fb76459f-c047-4a9d-8af9-e0f7d4ac2524   \n",
       "\n",
       "          City State                 County    Zip       Lat        Lng  ...  \\\n",
       "0  Point Baker    AK  Prince of Wales-Hyder  99927  56.25100 -133.37571  ...   \n",
       "1  West Branch    MI                 Ogemaw  48661  44.32893  -84.24080  ...   \n",
       "\n",
       "   MonthlyCharge Bandwidth_GB_Year item1 item2  item3  item4 item5 item6  \\\n",
       "0     171.449762        904.536110     5     5      5      3     4     4   \n",
       "1     242.948015        800.982766     3     4      3      3     4     3   \n",
       "\n",
       "   item7 item8  \n",
       "0      3     4  \n",
       "1      4     4  \n",
       "\n",
       "[2 rows x 52 columns]"
      ]
     },
     "execution_count": 2,
     "metadata": {},
     "output_type": "execute_result"
    }
   ],
   "source": [
    "# Load data set into Pandas dataframe and read first two rows including header\n",
    "df = pd.read_csv('churn_raw_data.csv')\n",
    "df.head(2)"
   ]
  },
  {
   "cell_type": "code",
   "execution_count": 3,
   "id": "8f189606",
   "metadata": {},
   "outputs": [
    {
     "data": {
      "text/html": [
       "<div>\n",
       "<style scoped>\n",
       "    .dataframe tbody tr th:only-of-type {\n",
       "        vertical-align: middle;\n",
       "    }\n",
       "\n",
       "    .dataframe tbody tr th {\n",
       "        vertical-align: top;\n",
       "    }\n",
       "\n",
       "    .dataframe thead th {\n",
       "        text-align: right;\n",
       "    }\n",
       "</style>\n",
       "<table border=\"1\" class=\"dataframe\">\n",
       "  <thead>\n",
       "    <tr style=\"text-align: right;\">\n",
       "      <th></th>\n",
       "      <th>CaseOrder</th>\n",
       "      <th>Customer_id</th>\n",
       "      <th>Interaction</th>\n",
       "      <th>City</th>\n",
       "      <th>State</th>\n",
       "      <th>County</th>\n",
       "      <th>Zip</th>\n",
       "      <th>Lat</th>\n",
       "      <th>Lng</th>\n",
       "      <th>Population</th>\n",
       "      <th>...</th>\n",
       "      <th>MonthlyCharge</th>\n",
       "      <th>Bandwidth_GB_Year</th>\n",
       "      <th>item1</th>\n",
       "      <th>item2</th>\n",
       "      <th>item3</th>\n",
       "      <th>item4</th>\n",
       "      <th>item5</th>\n",
       "      <th>item6</th>\n",
       "      <th>item7</th>\n",
       "      <th>item8</th>\n",
       "    </tr>\n",
       "  </thead>\n",
       "  <tbody>\n",
       "    <tr>\n",
       "      <th>0</th>\n",
       "      <td>1</td>\n",
       "      <td>K409198</td>\n",
       "      <td>aa90260b-4141-4a24-8e36-b04ce1f4f77b</td>\n",
       "      <td>Point Baker</td>\n",
       "      <td>AK</td>\n",
       "      <td>Prince of Wales-Hyder</td>\n",
       "      <td>99927</td>\n",
       "      <td>56.25100</td>\n",
       "      <td>-133.37571</td>\n",
       "      <td>38</td>\n",
       "      <td>...</td>\n",
       "      <td>171.449762</td>\n",
       "      <td>904.536110</td>\n",
       "      <td>5</td>\n",
       "      <td>5</td>\n",
       "      <td>5</td>\n",
       "      <td>3</td>\n",
       "      <td>4</td>\n",
       "      <td>4</td>\n",
       "      <td>3</td>\n",
       "      <td>4</td>\n",
       "    </tr>\n",
       "    <tr>\n",
       "      <th>1</th>\n",
       "      <td>2</td>\n",
       "      <td>S120509</td>\n",
       "      <td>fb76459f-c047-4a9d-8af9-e0f7d4ac2524</td>\n",
       "      <td>West Branch</td>\n",
       "      <td>MI</td>\n",
       "      <td>Ogemaw</td>\n",
       "      <td>48661</td>\n",
       "      <td>44.32893</td>\n",
       "      <td>-84.24080</td>\n",
       "      <td>10446</td>\n",
       "      <td>...</td>\n",
       "      <td>242.948015</td>\n",
       "      <td>800.982766</td>\n",
       "      <td>3</td>\n",
       "      <td>4</td>\n",
       "      <td>3</td>\n",
       "      <td>3</td>\n",
       "      <td>4</td>\n",
       "      <td>3</td>\n",
       "      <td>4</td>\n",
       "      <td>4</td>\n",
       "    </tr>\n",
       "  </tbody>\n",
       "</table>\n",
       "<p>2 rows × 51 columns</p>\n",
       "</div>"
      ],
      "text/plain": [
       "   CaseOrder Customer_id                           Interaction         City  \\\n",
       "0          1     K409198  aa90260b-4141-4a24-8e36-b04ce1f4f77b  Point Baker   \n",
       "1          2     S120509  fb76459f-c047-4a9d-8af9-e0f7d4ac2524  West Branch   \n",
       "\n",
       "  State                 County    Zip       Lat        Lng  Population  ...  \\\n",
       "0    AK  Prince of Wales-Hyder  99927  56.25100 -133.37571          38  ...   \n",
       "1    MI                 Ogemaw  48661  44.32893  -84.24080       10446  ...   \n",
       "\n",
       "  MonthlyCharge Bandwidth_GB_Year item1  item2  item3 item4 item5  item6  \\\n",
       "0    171.449762        904.536110     5      5      5     3     4      4   \n",
       "1    242.948015        800.982766     3      4      3     3     4      3   \n",
       "\n",
       "  item7 item8  \n",
       "0     3     4  \n",
       "1     4     4  \n",
       "\n",
       "[2 rows x 51 columns]"
      ]
     },
     "execution_count": 3,
     "metadata": {},
     "output_type": "execute_result"
    }
   ],
   "source": [
    "# Remove redundant \"Unnamed\" column at beginning & display first two records\n",
    "df = df.drop(df.columns[0], axis = 1)\n",
    "df.head(2)"
   ]
  },
  {
   "cell_type": "code",
   "execution_count": 4,
   "id": "c5566f47",
   "metadata": {},
   "outputs": [],
   "source": [
    "# Rename last 8 survey columns for better description of variables\n",
    "df.rename(columns = {'item1':'Timely_Responses',\n",
    "'item2':'Timely_Fixes',\n",
    "'item3':'Timely_Replacements',\n",
    "'item4':'Reliability',\n",
    "'item5':'Options',\n",
    "'item6':'Respectful_Response',\n",
    "'item7':'Courteous_Exchange',\n",
    "'item8':'Active_Listening'},\n",
    "inplace=True)"
   ]
  },
  {
   "cell_type": "markdown",
   "id": "64c004b9",
   "metadata": {},
   "source": [
    "<span style=\"color:Blue\"><b> Data Cleaning </b></span>"
   ]
  },
  {
   "cell_type": "code",
   "execution_count": 5,
   "id": "7e7b5824",
   "metadata": {},
   "outputs": [
    {
     "data": {
      "text/plain": [
       "Index(['CaseOrder', 'Customer_id', 'Interaction', 'City', 'State', 'County',\n",
       "       'Zip', 'Lat', 'Lng', 'Population', 'Area', 'Timezone', 'Job',\n",
       "       'Children', 'Age', 'Education', 'Employment', 'Income', 'Marital',\n",
       "       'Gender', 'Churn', 'Outage_sec_perweek', 'Email', 'Contacts',\n",
       "       'Yearly_equip_failure', 'Techie', 'Contract', 'Port_modem', 'Tablet',\n",
       "       'InternetService', 'Phone', 'Multiple', 'OnlineSecurity',\n",
       "       'OnlineBackup', 'DeviceProtection', 'TechSupport', 'StreamingTV',\n",
       "       'StreamingMovies', 'PaperlessBilling', 'PaymentMethod', 'Tenure',\n",
       "       'MonthlyCharge', 'Bandwidth_GB_Year', 'Timely_Responses',\n",
       "       'Timely_Fixes', 'Timely_Replacements', 'Reliability', 'Options',\n",
       "       'Respectful_Response', 'Courteous_Exchange', 'Active_Listening'],\n",
       "      dtype='object')"
      ]
     },
     "execution_count": 5,
     "metadata": {},
     "output_type": "execute_result"
    }
   ],
   "source": [
    "#Check remaining columns in new dataset and remove unwanted columns if required\n",
    "df.columns"
   ]
  },
  {
   "cell_type": "code",
   "execution_count": 6,
   "id": "cb29151f",
   "metadata": {},
   "outputs": [
    {
     "name": "stdout",
     "output_type": "stream",
     "text": [
      "CaseOrder                  0\n",
      "Customer_id                0\n",
      "Interaction                0\n",
      "City                       0\n",
      "State                      0\n",
      "County                     0\n",
      "Zip                        0\n",
      "Lat                        0\n",
      "Lng                        0\n",
      "Population                 0\n",
      "Area                       0\n",
      "Timezone                   0\n",
      "Job                        0\n",
      "Children                2495\n",
      "Age                     2475\n",
      "Education                  0\n",
      "Employment                 0\n",
      "Income                  2490\n",
      "Marital                    0\n",
      "Gender                     0\n",
      "Churn                      0\n",
      "Outage_sec_perweek         0\n",
      "Email                      0\n",
      "Contacts                   0\n",
      "Yearly_equip_failure       0\n",
      "Techie                  2477\n",
      "Contract                   0\n",
      "Port_modem                 0\n",
      "Tablet                     0\n",
      "InternetService            0\n",
      "Phone                   1026\n",
      "Multiple                   0\n",
      "OnlineSecurity             0\n",
      "OnlineBackup               0\n",
      "DeviceProtection           0\n",
      "TechSupport              991\n",
      "StreamingTV                0\n",
      "StreamingMovies            0\n",
      "PaperlessBilling           0\n",
      "PaymentMethod              0\n",
      "Tenure                   931\n",
      "MonthlyCharge              0\n",
      "Bandwidth_GB_Year       1021\n",
      "Timely_Responses           0\n",
      "Timely_Fixes               0\n",
      "Timely_Replacements        0\n",
      "Reliability                0\n",
      "Options                    0\n",
      "Respectful_Response        0\n",
      "Courteous_Exchange         0\n",
      "Active_Listening           0\n",
      "dtype: int64\n",
      "CaseOrder               False\n",
      "Customer_id             False\n",
      "Interaction             False\n",
      "City                    False\n",
      "State                   False\n",
      "County                  False\n",
      "Zip                     False\n",
      "Lat                     False\n",
      "Lng                     False\n",
      "Population              False\n",
      "Area                    False\n",
      "Timezone                False\n",
      "Job                     False\n",
      "Children                 True\n",
      "Age                      True\n",
      "Education               False\n",
      "Employment              False\n",
      "Income                   True\n",
      "Marital                 False\n",
      "Gender                  False\n",
      "Churn                   False\n",
      "Outage_sec_perweek      False\n",
      "Email                   False\n",
      "Contacts                False\n",
      "Yearly_equip_failure    False\n",
      "Techie                   True\n",
      "Contract                False\n",
      "Port_modem              False\n",
      "Tablet                  False\n",
      "InternetService         False\n",
      "Phone                    True\n",
      "Multiple                False\n",
      "OnlineSecurity          False\n",
      "OnlineBackup            False\n",
      "DeviceProtection        False\n",
      "TechSupport              True\n",
      "StreamingTV             False\n",
      "StreamingMovies         False\n",
      "PaperlessBilling        False\n",
      "PaymentMethod           False\n",
      "Tenure                   True\n",
      "MonthlyCharge           False\n",
      "Bandwidth_GB_Year        True\n",
      "Timely_Responses        False\n",
      "Timely_Fixes            False\n",
      "Timely_Replacements     False\n",
      "Reliability             False\n",
      "Options                 False\n",
      "Respectful_Response     False\n",
      "Courteous_Exchange      False\n",
      "Active_Listening        False\n",
      "dtype: bool\n"
     ]
    }
   ],
   "source": [
    "#we should also check count of missing values as well \"NA\" presence in dataset.\n",
    "data_with_nulls = df.isnull().sum() \n",
    "data_with_na=df.isna().any()\n",
    "print(data_with_nulls)\n",
    "print(data_with_na)"
   ]
  },
  {
   "cell_type": "code",
   "execution_count": 7,
   "id": "91ad01cf",
   "metadata": {},
   "outputs": [
    {
     "name": "stdout",
     "output_type": "stream",
     "text": [
      "Empty DataFrame\n",
      "Columns: [CaseOrder, Customer_id, Interaction, City, State, County, Zip, Lat, Lng, Population, Area, Timezone, Job, Children, Age, Education, Employment, Income, Marital, Gender, Churn, Outage_sec_perweek, Email, Contacts, Yearly_equip_failure, Techie, Contract, Port_modem, Tablet, InternetService, Phone, Multiple, OnlineSecurity, OnlineBackup, DeviceProtection, TechSupport, StreamingTV, StreamingMovies, PaperlessBilling, PaymentMethod, Tenure, MonthlyCharge, Bandwidth_GB_Year, Timely_Responses, Timely_Fixes, Timely_Replacements, Reliability, Options, Respectful_Response, Courteous_Exchange, Active_Listening]\n",
      "Index: []\n",
      "\n",
      "[0 rows x 51 columns]\n"
     ]
    }
   ],
   "source": [
    "# Identify duplicate rows in the dataframe and remove if required\n",
    "duplicates_data_rows = df.loc[df.duplicated()]\n",
    "print(duplicates_data_rows)"
   ]
  },
  {
   "cell_type": "code",
   "execution_count": 8,
   "id": "67497f10",
   "metadata": {},
   "outputs": [
    {
     "name": "stdout",
     "output_type": "stream",
     "text": [
      "Employment values \n",
      " ['Part Time' 'Retired' 'Student' 'Full Time' 'Unemployed']\n",
      "Area values \n",
      " ['Urban' 'Suburban' 'Rural']\n",
      "Children values \n",
      " [nan  1.  4.  0.  3.  2.  7.  5.  9.  6. 10.  8.]\n",
      "Education values \n",
      " [\"Master's Degree\" 'Regular High School Diploma' 'Doctorate Degree'\n",
      " 'No Schooling Completed' \"Associate's Degree\" \"Bachelor's Degree\"\n",
      " 'Some College, Less than 1 Year' 'GED or Alternative Credential'\n",
      " 'Some College, 1 or More Years, No Degree'\n",
      " '9th Grade to 12th Grade, No Diploma' 'Nursery School to 8th Grade'\n",
      " 'Professional School Degree']\n",
      "Marital values \n",
      " ['Widowed' 'Married' 'Separated' 'Never Married' 'Divorced']\n",
      "Gender values \n",
      " ['Male' 'Female' 'Prefer not to answer']\n",
      "Contract values \n",
      " ['One year' 'Month-to-month' 'Two Year']\n",
      "PaymentMethod values \n",
      " ['Credit Card (automatic)' 'Bank Transfer(automatic)' 'Mailed Check'\n",
      " 'Electronic Check']\n",
      "age_range values \n",
      " [-2147483648, 18, 19, 20, 21, 22, 23, 24, 25, 26, 27, 28, 29, 30, 31, 32, 33, 34, 35, 36, 37, 38, 39, 40, 41, 42, 43, 44, 45, 46, 47, 48, 49, 50, 51, 52, 53, 54, 55, 56, 57, 58, 59, 60, 61, 62, 63, 64, 65, 66, 67, 68, 69, 70, 71, 72, 73, 74, 75, 76, 77, 78, 79, 80, 81, 82, 83, 84, 85, 86, 87, 88, 89]\n"
     ]
    }
   ],
   "source": [
    "# find out columns with invalid values or misspelling in case of catergorial data.\n",
    "# This analysis will help later in analysis\n",
    "print(\"Employment values \\n\",df['Employment'].unique())\n",
    "print(\"Area values \\n\",df['Area'].unique())\n",
    "print(\"Children values \\n\",df['Children'].unique())\n",
    "print(\"Education values \\n\",df['Education'].unique())\n",
    "print(\"Marital values \\n\",df['Marital'].unique())\n",
    "print(\"Gender values \\n\",df['Gender'].unique())\n",
    "print(\"Contract values \\n\",df['Contract'].unique())\n",
    "print(\"PaymentMethod values \\n\",df['PaymentMethod'].unique())\n",
    "print(\"age_range values \\n\",sorted(df['Age'].unique().astype(int)))"
   ]
  },
  {
   "cell_type": "code",
   "execution_count": 9,
   "id": "8403d5cc",
   "metadata": {},
   "outputs": [],
   "source": [
    "# we found in above steps many missing data values for columns/features \n",
    "#Children, Age, Income, Tenure and Bandwidth_GB_Year\n",
    "# Now its time to Impute missing fields  with median or mean\n",
    "df['Children'] = df['Children'].fillna(df['Children'].median())\n",
    "df['Age'] = df['Age'].fillna(df['Age'].median())\n",
    "df['Income'] = df['Income'].fillna(df['Income'].median())\n",
    "df['Tenure'] = df['Tenure'].fillna(df['Tenure'].median())\n",
    "df['Bandwidth_GB_Year'] = df['Bandwidth_GB_Year'].fillna(df['Bandwidth_GB_Year'].median())"
   ]
  },
  {
   "cell_type": "code",
   "execution_count": 10,
   "id": "f59592b0",
   "metadata": {},
   "outputs": [
    {
     "name": "stdout",
     "output_type": "stream",
     "text": [
      "CaseOrder                  0\n",
      "Customer_id                0\n",
      "Interaction                0\n",
      "City                       0\n",
      "State                      0\n",
      "County                     0\n",
      "Zip                        0\n",
      "Lat                        0\n",
      "Lng                        0\n",
      "Population                 0\n",
      "Area                       0\n",
      "Timezone                   0\n",
      "Job                        0\n",
      "Children                   0\n",
      "Age                        0\n",
      "Education                  0\n",
      "Employment                 0\n",
      "Income                     0\n",
      "Marital                    0\n",
      "Gender                     0\n",
      "Churn                      0\n",
      "Outage_sec_perweek         0\n",
      "Email                      0\n",
      "Contacts                   0\n",
      "Yearly_equip_failure       0\n",
      "Techie                  2477\n",
      "Contract                   0\n",
      "Port_modem                 0\n",
      "Tablet                     0\n",
      "InternetService            0\n",
      "Phone                   1026\n",
      "Multiple                   0\n",
      "OnlineSecurity             0\n",
      "OnlineBackup               0\n",
      "DeviceProtection           0\n",
      "TechSupport              991\n",
      "StreamingTV                0\n",
      "StreamingMovies            0\n",
      "PaperlessBilling           0\n",
      "PaymentMethod              0\n",
      "Tenure                     0\n",
      "MonthlyCharge              0\n",
      "Bandwidth_GB_Year          0\n",
      "Timely_Responses           0\n",
      "Timely_Fixes               0\n",
      "Timely_Replacements        0\n",
      "Reliability                0\n",
      "Options                    0\n",
      "Respectful_Response        0\n",
      "Courteous_Exchange         0\n",
      "Active_Listening           0\n",
      "dtype: int64\n"
     ]
    }
   ],
   "source": [
    "#RE-check count of missing values after imputing missing fields \n",
    "data_with_nulls = df.isnull().sum() \n",
    "print(data_with_nulls)"
   ]
  },
  {
   "cell_type": "markdown",
   "id": "f2f58f70",
   "metadata": {},
   "source": [
    "### <span style=\"color:Blue\"><b> Chi-Square Test</b></span>"
   ]
  },
  {
   "cell_type": "code",
   "execution_count": 11,
   "id": "7fbce142",
   "metadata": {},
   "outputs": [],
   "source": [
    "marital_c=df['Marital'].value_counts()"
   ]
  },
  {
   "cell_type": "code",
   "execution_count": 12,
   "id": "b9b5a1b4",
   "metadata": {
    "scrolled": true,
    "slideshow": {
     "slide_type": "-"
    }
   },
   "outputs": [
    {
     "name": "stdout",
     "output_type": "stream",
     "text": [
      "Divorced         2092\n",
      "Widowed          2027\n",
      "Separated        2014\n",
      "Never Married    1956\n",
      "Married          1911\n",
      "Name: Marital, dtype: int64\n"
     ]
    }
   ],
   "source": [
    "print(marital_c)"
   ]
  },
  {
   "cell_type": "code",
   "execution_count": 13,
   "id": "13196a78",
   "metadata": {},
   "outputs": [
    {
     "data": {
      "text/plain": [
       "0.04728031294668998"
      ]
     },
     "execution_count": 13,
     "metadata": {},
     "output_type": "execute_result"
    }
   ],
   "source": [
    "chi = stats.chisquare(marital_c)\n",
    "chi.pvalue"
   ]
  },
  {
   "cell_type": "code",
   "execution_count": 14,
   "id": "21f6ce0d",
   "metadata": {},
   "outputs": [
    {
     "name": "stdout",
     "output_type": "stream",
     "text": [
      "Reject null hypothesis & \n",
      "Difference between marital status is statistically significant-> 0.04728031294668998\n"
     ]
    }
   ],
   "source": [
    "# Is the result significant?\n",
    "alpha = 0.05\n",
    "if chi.pvalue < alpha:\n",
    "    print(\"Reject null hypothesis & \\nDifference between marital status is statistically significant->\",chi.pvalue)\n",
    "else:\n",
    "    print(\"Accept null hypothesis and No significant difference between marital status found->\",chi.pvalue)"
   ]
  },
  {
   "cell_type": "code",
   "execution_count": 15,
   "id": "9e1083cd",
   "metadata": {},
   "outputs": [],
   "source": [
    "Employment_c=df['Employment'].value_counts()"
   ]
  },
  {
   "cell_type": "code",
   "execution_count": 16,
   "id": "2e241fac",
   "metadata": {},
   "outputs": [
    {
     "name": "stdout",
     "output_type": "stream",
     "text": [
      "Full Time     5992\n",
      "Part Time     1042\n",
      "Retired       1011\n",
      "Unemployed     991\n",
      "Student        964\n",
      "Name: Employment, dtype: int64\n"
     ]
    }
   ],
   "source": [
    "print(Employment_c)"
   ]
  },
  {
   "cell_type": "code",
   "execution_count": 17,
   "id": "f98145d7",
   "metadata": {},
   "outputs": [
    {
     "data": {
      "text/plain": [
       "0.0"
      ]
     },
     "execution_count": 17,
     "metadata": {},
     "output_type": "execute_result"
    }
   ],
   "source": [
    "chi_employment = stats.chisquare(Employment_c)\n",
    "chi_employment.pvalue"
   ]
  },
  {
   "cell_type": "code",
   "execution_count": 18,
   "id": "9d0d199c",
   "metadata": {},
   "outputs": [
    {
     "name": "stdout",
     "output_type": "stream",
     "text": [
      "Reject null hypothesis & \n",
      "Difference between employment status is statistically significant-> 0.04728031294668998\n"
     ]
    }
   ],
   "source": [
    "# Is the result significant?\n",
    "alpha = 0.05\n",
    "if chi_employment.pvalue < alpha:\n",
    "    print(\"Reject null hypothesis & \\nDifference between employment status is statistically significant->\",chi.pvalue)\n",
    "else:\n",
    "    print(\"Accept null hypothesis and No significant difference between employment status found->\",chi.pvalue)"
   ]
  },
  {
   "cell_type": "code",
   "execution_count": 19,
   "id": "a9e36eea",
   "metadata": {
    "scrolled": true
   },
   "outputs": [
    {
     "data": {
      "text/plain": [
       "count    10000.000000\n",
       "mean       174.076305\n",
       "std         43.335473\n",
       "min         77.505230\n",
       "25%        141.071078\n",
       "50%        169.915400\n",
       "75%        203.777441\n",
       "max        315.878600\n",
       "Name: MonthlyCharge, dtype: float64"
      ]
     },
     "execution_count": 19,
     "metadata": {},
     "output_type": "execute_result"
    }
   ],
   "source": [
    "df['MonthlyCharge'].describe()"
   ]
  },
  {
   "cell_type": "code",
   "execution_count": 20,
   "id": "7d9fe491",
   "metadata": {},
   "outputs": [
    {
     "data": {
      "text/plain": [
       "count    10000.000000\n",
       "mean      3397.166397\n",
       "std       2072.718575\n",
       "min        155.506715\n",
       "25%       1312.130487\n",
       "50%       3382.424000\n",
       "75%       5466.284500\n",
       "max       7158.982000\n",
       "Name: Bandwidth_GB_Year, dtype: float64"
      ]
     },
     "execution_count": 20,
     "metadata": {},
     "output_type": "execute_result"
    }
   ],
   "source": [
    "df['Bandwidth_GB_Year'].describe()"
   ]
  },
  {
   "cell_type": "code",
   "execution_count": 21,
   "id": "f82d6990",
   "metadata": {},
   "outputs": [
    {
     "data": {
      "text/plain": [
       "count    10000.000000\n",
       "mean         3.490800\n",
       "std          1.037797\n",
       "min          1.000000\n",
       "25%          3.000000\n",
       "50%          3.000000\n",
       "75%          4.000000\n",
       "max          7.000000\n",
       "Name: Timely_Responses, dtype: float64"
      ]
     },
     "execution_count": 21,
     "metadata": {},
     "output_type": "execute_result"
    }
   ],
   "source": [
    "df['Timely_Responses'].describe()"
   ]
  },
  {
   "cell_type": "code",
   "execution_count": 22,
   "id": "f14b60b4",
   "metadata": {},
   "outputs": [
    {
     "data": {
      "text/plain": [
       "count    10000.000000\n",
       "mean         3.497500\n",
       "std          1.025816\n",
       "min          1.000000\n",
       "25%          3.000000\n",
       "50%          3.000000\n",
       "75%          4.000000\n",
       "max          7.000000\n",
       "Name: Reliability, dtype: float64"
      ]
     },
     "execution_count": 22,
     "metadata": {},
     "output_type": "execute_result"
    }
   ],
   "source": [
    "df['Reliability'].describe()"
   ]
  },
  {
   "cell_type": "code",
   "execution_count": 23,
   "id": "473d47e8",
   "metadata": {},
   "outputs": [
    {
     "data": {
      "image/png": "[encoded data removed]",
      "text/plain": [
       "<Figure size 432x288 with 4 Axes>"
      ]
     },
     "metadata": {
      "needs_background": "light"
     },
     "output_type": "display_data"
    }
   ],
   "source": [
    "# Plotting  histograms of selected contiuous & categorical variables\n",
    "df[['MonthlyCharge', 'Bandwidth_GB_Year', 'Timely_Responses', 'Reliability']].hist()\n",
    "plt.savefig('churn_data_plot.jpg')\n",
    "plt.tight_layout()"
   ]
  },
  {
   "cell_type": "code",
   "execution_count": 24,
   "id": "63dc2a4f",
   "metadata": {},
   "outputs": [
    {
     "name": "stderr",
     "output_type": "stream",
     "text": [
      "D:\\Users\\milan\\anaconda3\\lib\\site-packages\\seaborn\\_decorators.py:36: FutureWarning: Pass the following variable as a keyword arg: x. From version 0.12, the only valid positional argument will be `data`, and passing other arguments without an explicit keyword will result in an error or misinterpretation.\n",
      "  warnings.warn(\n"
     ]
    },
    {
     "data": {
      "image/png": "[encoded data removed]",
      "text/plain": [
       "<Figure size 432x288 with 1 Axes>"
      ]
     },
     "metadata": {
      "needs_background": "light"
     },
     "output_type": "display_data"
    }
   ],
   "source": [
    "#Plotting Seaborn boxplots for continuous & categorical variables\n",
    "sns.boxplot('MonthlyCharge', data = df)\n",
    "plt.show()"
   ]
  },
  {
   "cell_type": "code",
   "execution_count": 25,
   "id": "af4dd0b7",
   "metadata": {},
   "outputs": [
    {
     "name": "stderr",
     "output_type": "stream",
     "text": [
      "D:\\Users\\milan\\anaconda3\\lib\\site-packages\\seaborn\\_decorators.py:36: FutureWarning: Pass the following variable as a keyword arg: x. From version 0.12, the only valid positional argument will be `data`, and passing other arguments without an explicit keyword will result in an error or misinterpretation.\n",
      "  warnings.warn(\n"
     ]
    },
    {
     "data": {
      "image/png": "[encoded data removed]",
      "text/plain": [
       "<Figure size 432x288 with 1 Axes>"
      ]
     },
     "metadata": {
      "needs_background": "light"
     },
     "output_type": "display_data"
    }
   ],
   "source": [
    "sns.boxplot('Bandwidth_GB_Year', data = df)\n",
    "plt.show()"
   ]
  },
  {
   "cell_type": "code",
   "execution_count": 26,
   "id": "9fa9ddef",
   "metadata": {},
   "outputs": [
    {
     "name": "stderr",
     "output_type": "stream",
     "text": [
      "D:\\Users\\milan\\anaconda3\\lib\\site-packages\\seaborn\\_decorators.py:36: FutureWarning: Pass the following variable as a keyword arg: x. From version 0.12, the only valid positional argument will be `data`, and passing other arguments without an explicit keyword will result in an error or misinterpretation.\n",
      "  warnings.warn(\n"
     ]
    },
    {
     "data": {
      "image/png": "[encoded data removed]",
      "text/plain": [
       "<Figure size 432x288 with 1 Axes>"
      ]
     },
     "metadata": {
      "needs_background": "light"
     },
     "output_type": "display_data"
    }
   ],
   "source": [
    "sns.boxplot('Timely_Responses', data = df)\n",
    "plt.show()"
   ]
  },
  {
   "cell_type": "code",
   "execution_count": 27,
   "id": "2ed55e69",
   "metadata": {},
   "outputs": [
    {
     "name": "stderr",
     "output_type": "stream",
     "text": [
      "D:\\Users\\milan\\anaconda3\\lib\\site-packages\\seaborn\\_decorators.py:36: FutureWarning: Pass the following variable as a keyword arg: x. From version 0.12, the only valid positional argument will be `data`, and passing other arguments without an explicit keyword will result in an error or misinterpretation.\n",
      "  warnings.warn(\n"
     ]
    },
    {
     "data": {
      "image/png": "[encoded data removed]",
      "text/plain": [
       "<Figure size 432x288 with 1 Axes>"
      ]
     },
     "metadata": {
      "needs_background": "light"
     },
     "output_type": "display_data"
    }
   ],
   "source": [
    "sns.boxplot('Reliability', data = df)\n",
    "plt.show()"
   ]
  },
  {
   "cell_type": "code",
   "execution_count": 28,
   "id": "322c68bb",
   "metadata": {},
   "outputs": [],
   "source": [
    " # Create dataframe for heatmap bivariate analysis of correlation\n",
    "churn_bivariate = df[['MonthlyCharge', 'Bandwidth_GB_Year',\n",
    "                      'Timely_Responses','Reliability']]"
   ]
  },
  {
   "cell_type": "code",
   "execution_count": 29,
   "id": "99f3dbe6",
   "metadata": {},
   "outputs": [
    {
     "data": {
      "image/png": "[encoded data removed]",
      "text/plain": [
       "<Figure size 432x288 with 2 Axes>"
      ]
     },
     "metadata": {
      "needs_background": "light"
     },
     "output_type": "display_data"
    }
   ],
   "source": [
    "sns.heatmap(churn_bivariate.corr(), annot=True)\n",
    "plt.show()"
   ]
  },
  {
   "cell_type": "code",
   "execution_count": 30,
   "id": "e5bc7226",
   "metadata": {},
   "outputs": [
    {
     "data": {
      "text/plain": [
       "<AxesSubplot:xlabel='MonthlyCharge', ylabel='Bandwidth_GB_Year'>"
      ]
     },
     "execution_count": 30,
     "metadata": {},
     "output_type": "execute_result"
    },
    {
     "data": {
      "image/png": "[encoded data removed]",
      "text/plain": [
       "<Figure size 432x288 with 1 Axes>"
      ]
     },
     "metadata": {
      "needs_background": "light"
     },
     "output_type": "display_data"
    }
   ],
   "source": [
    "# scatter plot of continuous variables MonthlyCharge ,bandwidth_GB_Year\n",
    "# Maximum value for Monthlycharge is 315.87 thats reason we used Monthlycharges < 300 \n",
    "churn_bivariate[churn_bivariate['MonthlyCharge'] < 300].sample(500).plot.scatter(x='MonthlyCharge',y='Bandwidth_GB_Year')\n"
   ]
  },
  {
   "cell_type": "code",
   "execution_count": 31,
   "id": "3eacb305",
   "metadata": {},
   "outputs": [
    {
     "data": {
      "text/plain": [
       "<AxesSubplot:xlabel='Timely_Responses', ylabel='Reliability'>"
      ]
     },
     "execution_count": 31,
     "metadata": {},
     "output_type": "execute_result"
    },
    {
     "data": {
      "image/png": "[encoded data removed]",
      "text/plain": [
       "<Figure size 432x288 with 1 Axes>"
      ]
     },
     "metadata": {
      "needs_background": "light"
     },
     "output_type": "display_data"
    }
   ],
   "source": [
    "# Scatter plot of categorical variables TimelyResponse & Courteous\n",
    "churn_bivariate[churn_bivariate['Timely_Responses'] < 7].plot.scatter(x='Timely_Responses',y='Reliability')"
   ]
  }
 ],
 "metadata": {
  "kernelspec": {
   "display_name": "Python 3 (ipykernel)",
   "language": "python",
   "name": "python3"
  },
  "language_info": {
   "codemirror_mode": {
    "name": "ipython",
    "version": 3
   },
   "file_extension": ".py",
   "mimetype": "text/x-python",
   "name": "python",
   "nbconvert_exporter": "python",
   "pygments_lexer": "ipython3",
   "version": "3.9.4"
  }
 },
 "nbformat": 4,
 "nbformat_minor": 5
}
